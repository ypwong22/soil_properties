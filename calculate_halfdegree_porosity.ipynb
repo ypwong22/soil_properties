{
 "cells": [
  {
   "cell_type": "code",
   "execution_count": null,
   "metadata": {},
   "outputs": [],
   "source": [
    "import os\n",
    "import rasterio as rio\n",
    "import numpy as np\n",
    "import matplotlib.pyplot as plt"
   ]
  },
  {
   "cell_type": "code",
   "execution_count": null,
   "metadata": {},
   "outputs": [],
   "source": [
    "# Calculate the porosity\n",
    "BD_om = 1.3\n",
    "BD_minerals = 2.71\n",
    "BD_gravels = 2.80\n",
    "vf_pores_gravels = 0.24\n",
    "\n",
    "\n",
    "path_out = os.path.join(os.environ['PROJDIR'], 'Soil_Moisture_v2', 'intermediate',\n",
    "                        'map_predictors', 'hwsd2')\n",
    "for layer in [f'D{i}' for i in range(1, 8)]:\n",
    "    data_list = {}\n",
    "    for var in ['COARSE', 'SAND', 'SILT', 'CLAY', 'BULK', 'ORG_CARBON']:\n",
    "        h = rio.open(os.path.join(path_out, f'{var}_{layer}.shp'))\n",
    "        data_list[var] = h.read(1, masked = True)\n",
    "        data_list[var].mask = np.logical_or(data_list[var].mask, (data_list[var].data < 0))\n",
    "\n",
    "        profile = dict(h.profile)\n",
    "\n",
    "        h.close()\n",
    "\n",
    "    # volumetric fraction\n",
    "    vf_gravels_s = data_list['COARSE'] * (1 - vf_pores_gravels) / 100\n",
    "    # weight fraction of SOM within fine earth\n",
    "    wf_om_fine_earth = data_list['ORG_CARBON'] * 1.724 / 100\n",
    "    # volume fraction of SOM within fine earth\n",
    "    vf_om_fine_earth = np.ma.minimum(wf_om_fine_earth * data_list['BULK'] / BD_om, 1)\n",
    "\n",
    "    # Bulk density of soil (GRAVELS + MINERALS + ORGANIC MATTER)\n",
    "    # BD is the BULK DENSITY OF FINE EARTH (MINERALS + ORGANIC MATTER)\n",
    "    BD_avg = (1 - vf_gravels_s/(1 - vf_pores_gravels)) * data_list['BULK'] + vf_gravels_s * BD_gravels\n",
    "\n",
    "    # Mass fraction of gravels\n",
    "    wf_gravels_s = vf_gravels_s * BD_gravels / BD_avg\n",
    "    wf_sand_s = data_list['SAND'] / 100 * (1 - wf_om_fine_earth) * (1 - wf_gravels_s)\n",
    "    wf_silt_s = data_list['SILT'] / 100 * (1 - wf_om_fine_earth) * (1 - wf_gravels_s)\n",
    "    wf_clay_s = data_list['CLAY'] / 100 * (1 - wf_om_fine_earth) * (1 - wf_gravels_s)\n",
    "    wf_om_s = wf_om_fine_earth * (1 - wf_gravels_s)\n",
    "\n",
    "    # Volumetric fraction of soil constituents\n",
    "    vf_sand_s = wf_sand_s * BD_avg / BD_minerals\n",
    "    vf_silt_s = wf_silt_s * BD_avg / BD_minerals\n",
    "    vf_clay_s = wf_clay_s * BD_avg / BD_minerals\n",
    "    vf_om_s = wf_om_s * BD_avg / BD_om\n",
    "\n",
    "    # Particle density of soil (minerals + organic matter + gravels)\n",
    "    BD_particle_inverse = wf_gravels_s / BD_gravels + \\\n",
    "        (1 - wf_gravels_s) * ((1 - wf_om_fine_earth)/BD_minerals + wf_om_fine_earth/BD_om)\n",
    "    BD_particle = 1 / BD_particle_inverse\n",
    "\n",
    "    # Porosity of soil\n",
    "    vf_pores_s = 1 - BD_avg * BD_particle_inverse\n",
    "\n",
    "    # Save to file\n",
    "    profile['driver'] = 'GTiff'\n",
    "    profile['height'] = vf_pores_s.shape[0]\n",
    "    profile['dtype'] = np.float32\n",
    "    profile['nodata'] = 1e20\n",
    "    file_out = os.path.join(path_out, f'porosity_{layer}.tif')\n",
    "    dst = rio.open(file_out, 'w', **profile)\n",
    "    dst.write(vf_pores_s, 1)\n",
    "    dst.close()"
   ]
  },
  {
   "cell_type": "code",
   "execution_count": null,
   "metadata": {},
   "outputs": [],
   "source": [
    "plt.imshow(vf_pores_s)\n",
    "plt.colorbar()"
   ]
  }
 ],
 "metadata": {
  "language_info": {
   "name": "python"
  }
 },
 "nbformat": 4,
 "nbformat_minor": 2
}
